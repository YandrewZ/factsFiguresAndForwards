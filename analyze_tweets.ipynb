{
 "cells": [
  {
   "cell_type": "code",
   "execution_count": 189,
   "metadata": {},
   "outputs": [],
   "source": [
    "import re\n",
    "import pandas as pd\n",
    "import time\n",
    "\n",
    "dates = ['05-25','05-26','05-27','05-28','05-29','05-30','05-31','06-01','06-02','06-03','06-04','06-05','06-06', '06-07','06-08','06-09','06-10','06-11','06-12','06-13']\n",
    "\n",
    "url_summary = dict() # format --> 'link': {info}   | {info} format --> {'Datetime', 'Favorites', 'Count'}\n",
    "total_url_list = [] # ordered from earliest to lastest\n",
    "double_check_list = []\n",
    "daily_num_links = [0]"
   ]
  },
  {
   "cell_type": "code",
   "execution_count": 190,
   "metadata": {},
   "outputs": [],
   "source": [
    "def findUrl(string): \n",
    "    regex = r\"(?i)\\b((?:https?://|www\\d{0,3}[.]|[a-z0-9.\\-]+[.][a-z]{2,4}/)(?:[^\\s()<>]+|\\(([^\\s()<>]+|(\\([^\\s()<>]+\\)))*\\))+(?:\\(([^\\s()<>]+|(\\([^\\s()<>]+\\)))*\\)|[^\\s`!()\\[\\]{};:'\\\".,<>?«»“”‘’]))\"\n",
    "\n",
    "    url = re.findall(regex,string)       \n",
    "    return [x[0] for x in url] "
   ]
  },
  {
   "cell_type": "code",
   "execution_count": 191,
   "metadata": {},
   "outputs": [],
   "source": [
    "def checkUrl(url_summary, url_list, double_check_list):\n",
    "    for i in range(len(url_list)-1, -1, -1):\n",
    "        link = url_list[i]\n",
    "        if('pic.twitter.com' in link or 'www.instagram.com' in link or 'www.facebook.com' in link or 'SoundCloud.com' in link or 'twitter.com' in link or 'www.amazon.com' in link or 'rddt.co' in link):\n",
    "            url_list.remove(link)\n",
    "            url_summary.pop(link)\n",
    "            # print('removed link: ' + link)\n",
    "\n",
    "        if('.ly/' in link or '//youtu' in link):\n",
    "            double_check_list.append(link)\n",
    "    return url_list"
   ]
  },
  {
   "cell_type": "code",
   "execution_count": 192,
   "metadata": {},
   "outputs": [],
   "source": [
    "def extractUrl(tweets):\n",
    "    url_list = []\n",
    "    for i in range(len(tweets)):\n",
    "        text = (tweets.loc[i,'Text'])\n",
    "        urls = findUrl(text)\n",
    "        if(urls != []):\n",
    "            for l in urls:\n",
    "                datetime = tweets.loc[i,'Datetime']\n",
    "                favs = tweets.loc[i,'Favorites']\n",
    "                default = {'Datetime': datetime, 'Favs': favs, 'Count': 1}\n",
    "\n",
    "                if(l in url_summary):\n",
    "                    url_summary[l]['Favs'] += favs\n",
    "                    url_summary[l]['Count'] += 1\n",
    "                else:\n",
    "                    url_summary[l] = default\n",
    "                    url_list.append(l)\n",
    "    return url_list\n"
   ]
  },
  {
   "cell_type": "markdown",
   "metadata": {},
   "source": [
    "PROCESS ALL THE TWEETS\n",
    "\n"
   ]
  },
  {
   "cell_type": "code",
   "execution_count": 193,
   "metadata": {},
   "outputs": [
    {
     "output_type": "stream",
     "name": "stdout",
     "text": "On 05-25, there are 2 links. \n The first link is https://vdare.com/posts/this-day-in-vdare-com-history-2015-blacklivesmatter-sometimes-26-shootings-9-killed-in-baltimore-over-memorial-day-weekend \n the last link is https://www.blackhistory.com/2018/05/black-people-african-americans-invented-memorial-day-history.html\nit took 0.0546 seconds to complete\n------------------------------\nOn 05-26, there are 6 links. \n The first link is https://www.washingtonpost.com/nation/2020/05/26/minneapolis-police-death-custody-fbi/ \n the last link is https://bit.ly/2X5Hw5O\nit took 0.0282 seconds to complete\n------------------------------\nOn 05-27, there are 70 links. \n The first link is https://tinyurl.com/ycgo2zea \n the last link is http://chng.it/kqjpwbjj\nit took 0.3294 seconds to complete\n------------------------------\nOn 05-28, there are 241 links. \n The first link is https://www.nbcnews.com/news/us-news/minneapolis-police-officer-center-george-floyd-s-death-had-history-n1215691 \n the last link is https://youtu.be/KTWIha_rwEg\nit took 0.7677 seconds to complete\n------------------------------\nOn 05-29, there are 256 links. \n The first link is http://chng.it/B2c42mkQ \n the last link is https://colorofchange.org/\nit took 0.3585 seconds to complete\n------------------------------\nOn 05-30, there are 206 links. \n The first link is https://youtu.be/Man4Xw8Xypo \n the last link is https://www.roomofonesown.com/unlearning-racism-learning-antiracism\nit took 0.3008 seconds to complete\n------------------------------\nOn 05-31, there are 323 links. \n The first link is http://sbltn.com/labnotes/melanin-color-and-cost \n the last link is https://www.gofundme.com/f/campaign-zero-asian-artists-4-black-lives\nit took 0.4285 seconds to complete\n------------------------------\nOn 06-01, there are 517 links. \n The first link is https://j.mp/3gD1kp9 \n the last link is https://puritybleeds.bandcamp.com/merch/blm\nit took 0.4441 seconds to complete\n------------------------------\nOn 06-02, there are 637 links. \n The first link is https://www.twitch.tv/redditfighting \n the last link is https://www.change.org/p/san-leandro-police-deartment-justice-for-emerald-black\nit took 0.4714 seconds to complete\n------------------------------\nOn 06-03, there are 497 links. \n The first link is http://smash.gg/tournament/the… \n the last link is http://www.drakecereal.com\nit took 0.2749 seconds to complete\n------------------------------\nOn 06-04, there are 459 links. \n The first link is https://www.youtube.com/watch?v=sdV_a8qKAOo \n the last link is https://www.theage.com.au/national/victoria/activists-plan-trouble-for-melbourne-black-lives-matter-protest-20200604-p54zo7.html\nit took 0.2847 seconds to complete\n------------------------------\nOn 06-05, there are 25 links. \n The first link is https://youtu.be/pFnODWMqr2Q \n the last link is https://youtu.be/WkFxTxo5dvw\nit took 0.0377 seconds to complete\n------------------------------\nOn 06-06, there are 32 links. \n The first link is https://www.nilc.org/wp-content/uploads/2020/06/Letter-of-Solidarity-from-the-Immigrant-Justice-Movement-with-Signatories-6.5.20.pdf \n the last link is https://www.soompi.com/article/1405175wpp/bts-and-big-hit-donate-1-million-to-black-lives-matter\nit took 0.0521 seconds to complete\n------------------------------\nOn 06-07, there are 23 links. \n The first link is http://tinyurl.com/y7k3bust \n the last link is https://www.vice.com/en_ca/article/n7wn4z/police-killed-a-young-woman-in-new-brunswick-during-wellness-check\nit took 0.0282 seconds to complete\n------------------------------\nOn 06-08, there are 25 links. \n The first link is https://ssl.twitcasting.tv/iwj_areach3/movie/620535497 \n the last link is https://bit.ly/2YcVr9D\nit took 0.0350 seconds to complete\n------------------------------\nOn 06-09, there are 32 links. \n The first link is https://bit.ly/2AOv3ef \n the last link is https://m.facebook.com/story.php?story_fbid=1718623961613304&amp;id=362360487804144&amp;sfnsn=wa&amp;d=w&amp;vh=e\nit took 0.0327 seconds to complete\n------------------------------\nOn 06-10, there are 33 links. \n The first link is https://www.scientificamerican.com/article/flooding-disproportionately-harms-black-neighborhoods/ \n the last link is http://change.org/renameyale\nit took 0.0337 seconds to complete\n------------------------------\nOn 06-11, there are 24 links. \n The first link is https://religionunplugged.com/news/2020/6/9/faith-remains-a-focus-at-george-floyds-memorial \n the last link is https://youtu.be/zIPHwo1StI8\nit took 0.0314 seconds to complete\n------------------------------\nOn 06-12, there are 20 links. \n The first link is https://scoopusa-pa.newsmemory.com?publink=0cc5f4bbb_13436c5 \n the last link is https://www.si.com/wrestling/2020/06/12/wwe-mustafa-ali-police-brutality-black-lives-matter\nit took 0.0531 seconds to complete\n------------------------------\n"
    }
   ],
   "source": [
    "for i in range(len(dates)-1):\n",
    "    tic = time.perf_counter()\n",
    "\n",
    "    # Preparation\n",
    "    filename = 'blacklivesmatter_05-25_06-12_topTweets/blacklivesmatter_'+dates[i]+'_toptweets.csv'\n",
    "    tweets = pd.read_csv(filename)\n",
    "    r_tweets = tweets[::-1].reset_index() ## reverse the order of the tweets so that it starts with the earliest tweet\n",
    "\n",
    "\n",
    "\n",
    "    # Processing\n",
    "    temp_list = extractUrl(r_tweets) # extract all urls without any processing\n",
    "    temp_list = checkUrl(url_summary, temp_list, double_check_list) # remove irrelevant urls\n",
    "    total_url_list.extend(temp_list)\n",
    "    daily_num_links.append(len(temp_list)) # keep track of the number of urls on each day\n",
    "\n",
    "\n",
    "\n",
    "    toc = time.perf_counter()\n",
    "\n",
    "    # Brief summary\n",
    "    daily_total = len(temp_list)\n",
    "    first_link = temp_list[0]\n",
    "    last_link = temp_list[-1]\n",
    "    print('On {}, there are {} links. \\n The first link is {} \\n the last link is {}'.format(dates[i], daily_total, first_link, last_link))\n",
    "    print('it took {:0.4f} seconds to complete'.format(toc-tic))\n",
    "    print('-'*30)\n",
    "\n",
    "    time.sleep(1)\n",
    "\n",
    "\n",
    "\n",
    "\n"
   ]
  },
  {
   "cell_type": "code",
   "execution_count": 194,
   "metadata": {},
   "outputs": [
    {
     "output_type": "stream",
     "name": "stdout",
     "text": "[0, 2, 6, 70, 241, 256, 206, 323, 517, 637, 497, 459, 25, 32, 23, 25, 32, 33, 24, 20]\n3428\n3428\nhttps://scoopusa-pa.newsmemory.com?publink=0cc5f4bbb_13436c5\nhttps://www.albertaparty.ca/racism_in_alberta\nhttps://religionunplugged.com/news/2020/6/11/kenyans-jump-headlong-into-george-floyd-debate-with-mixed-views\nhttps://www.health.com/mind-body/wellness-warriors-black-lives-matter?fbclid=IwAR0TmBGyo7Jm8qRiaNj76q_2KAahuhPME4YZ3JW1gSf8viZSi13gXKM4s_o\nhttps://youtu.be/gXZH-Sz2Ens\nhttps://bit.ly/mteafo\nhttp://ow.ly/SO4G30qOSi8\nhttps://linktr.ee/blacklivesmatter\nhttps://www.phila.gov/2020-06-11-citys-office-of-lgbt-affairs-issues-statement-on-the-murder-of-dominique-remmie-fells/\nhttps://www.london.gov.uk/updates/news-feed\nhttps://bbc.in/3dY3Mon\nhttp://chng.it/BwTnJvwR\nhttp://LovingDay.org\nhttps://www.littlebrown.co.uk/little-brown-news/2020/06/12/read-an-extract-from-tribes-by-david-lammy/\nhttps://crosscut.com/2020/06/black-consultants-accuse-wa-democratic-groups-racism\nhttp://chng.it/qsyRP6p5\nhttp://bit.ly/2MSPZUe\nhttps://bit.ly/2XVv1KD\nhttps://youtu.be/RyD9CgA3UKI\nhttps://www.si.com/wrestling/2020/06/12/wwe-mustafa-ali-police-brutality-black-lives-matter\n"
    }
   ],
   "source": [
    "print(daily_num_links)\n",
    "print(len(total_url_list))\n",
    "print(len(url_summary))\n",
    "\n",
    "for i in total_url_list[-20:]:\n",
    "    print(i)\n"
   ]
  },
  {
   "cell_type": "code",
   "execution_count": 195,
   "metadata": {},
   "outputs": [
    {
     "output_type": "stream",
     "name": "stdout",
     "text": "577 577\n"
    }
   ],
   "source": [
    "print(len(double_check_list),len(set(double_check_list)))"
   ]
  },
  {
   "cell_type": "code",
   "execution_count": 220,
   "metadata": {},
   "outputs": [
    {
     "output_type": "stream",
     "name": "stdout",
     "text": "3152\n"
    }
   ],
   "source": [
    "import pandas as pd\n",
    "summary_list = []\n",
    "for i in total_url_list:\n",
    "    text = i\n",
    "    datetime = url_summary[i]['Datetime']\n",
    "    favs = url_summary[i]['Favs']\n",
    "    count = url_summary[i]['Count']\n",
    "\n",
    "    summary_list.append([text, datetime, favs, count])\n",
    "summary_df = pd.DataFrame(summary_list, columns=['Text', 'Datetime', 'Favs', 'Count'])\n",
    "summary_df.head()\n",
    "print(len(summary_df))"
   ]
  },
  {
   "cell_type": "code",
   "execution_count": 221,
   "metadata": {},
   "outputs": [],
   "source": [
    "summary_df.to_csv('blacklivesmatter_05-25_06-12_topTweets_urlSummary.csv')"
   ]
  },
  {
   "cell_type": "code",
   "execution_count": 203,
   "metadata": {},
   "outputs": [
    {
     "output_type": "execute_result",
     "data": {
      "text/plain": "577"
     },
     "metadata": {},
     "execution_count": 203
    }
   ],
   "source": [
    "len(double_check_list)"
   ]
  },
  {
   "cell_type": "code",
   "execution_count": 206,
   "metadata": {},
   "outputs": [],
   "source": [
    "double_check_df = pd.DataFrame(double_check_list, columns=['Link'])\n",
    "double_check_df.to_csv('blacklivesmatter_05-25_06-12_topTweets_doubleCheck.csv')"
   ]
  },
  {
   "cell_type": "code",
   "execution_count": 209,
   "metadata": {},
   "outputs": [],
   "source": [
    "delete_df = pd.read_csv('blacklivesmatter_05-25_06-12_topTweets_deleteLinks.csv')\n",
    "delete_list = ['blacklivesmatter_05-25_06-12_topTweets_deleteLinks.csv']\n",
    "for i in range(len(delete_df)):\n",
    "    delete_list.append(delete_df.loc[i,'Removed Link'])\n",
    "    "
   ]
  },
  {
   "cell_type": "code",
   "execution_count": 210,
   "metadata": {},
   "outputs": [
    {
     "output_type": "execute_result",
     "data": {
      "text/plain": "277"
     },
     "metadata": {},
     "execution_count": 210
    }
   ],
   "source": [
    "len(delete_list)"
   ]
  },
  {
   "cell_type": "code",
   "execution_count": 216,
   "metadata": {},
   "outputs": [
    {
     "output_type": "stream",
     "name": "stdout",
     "text": "3152\n3152\n"
    }
   ],
   "source": [
    "for i in delete_list:\n",
    "    if(i in total_url_list and i in url_summary):\n",
    "        total_url_list.remove(i)\n",
    "        url_summary.pop(i)\n",
    "\n",
    "print(len(total_url_list))\n",
    "print(len(url_summary))"
   ]
  }
 ],
 "metadata": {
  "language_info": {
   "codemirror_mode": {
    "name": "ipython",
    "version": 3
   },
   "file_extension": ".py",
   "mimetype": "text/x-python",
   "name": "python",
   "nbconvert_exporter": "python",
   "pygments_lexer": "ipython3",
   "version": "3.6.5-final"
  },
  "orig_nbformat": 2,
  "kernelspec": {
   "name": "python3",
   "display_name": "Python 3"
  }
 },
 "nbformat": 4,
 "nbformat_minor": 2
}