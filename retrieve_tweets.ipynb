{
 "cells": [
  {
   "cell_type": "code",
   "execution_count": 1,
   "metadata": {},
   "outputs": [],
   "source": [
    "import GetOldTweets3 as got\n",
    "import pandas as pd"
   ]
  },
  {
   "cell_type": "code",
   "execution_count": null,
   "metadata": {},
   "outputs": [],
   "source": [
    "dates = ['05-25','05-26','05-27','05-28','05-29','05-30','05-31','06-01','06-02','06-03',\n",
    "        '06-04','06-05','06-06','06-07','06-08','06-09','06-10','06-11','06-12','06-13']\n",
    "for i in range(len(dates)-1):\n",
    "  querySearch = '#blacklivesmatter'\n",
    "  start_date = '2020-'+dates[i]\n",
    "  end_date = '2020-'+dates[i+1]\n",
    "  max_tweets = 10000\n",
    "  \n",
    "  tic = time.perf_counter()\n",
    "  tweetCriteria = got.manager.TweetCriteria().setQuerySearch(querySearch)\\\n",
    "                                            .setSince(start_date)\\\n",
    "                                            .setUntil(end_date)\\\n",
    "                                            .setTopTweets(True)\\\n",
    "                                            .setMaxTweets(max_tweets)\n",
    "  tweets = got.manager.TweetManager.getTweets(tweetCriteria)\n",
    "  toc = time.perf_counter()\n",
    "  print(tweets[0].text, tweets[0].favorites, tweets[0].date)\n",
    "  print('retrieving top tweets on {} took {:0.4f} seconds'.format(dates[i], toc-tic))\n",
    "  \n",
    "  text_tweets = [[tweet.date, tweet.favorites, tweet.text] for tweet in tweets]\n",
    "  tweets_df = pd.DataFrame(text_tweets, columns = ['Datetime', 'Favorites', 'Text'])\n",
    "  tweets_df.to_csv('blacklivesmatter_{}_toptweets.csv'.format(dates[i]), sep=',')\n",
    "\n",
    "  time.sleep(120)"
   ]
  }
 ],
 "metadata": {
  "language_info": {
   "codemirror_mode": {
    "name": "ipython",
    "version": 3
   },
   "file_extension": ".py",
   "mimetype": "text/x-python",
   "name": "python",
   "nbconvert_exporter": "python",
   "pygments_lexer": "ipython3",
   "version": "3.6.5-final"
  },
  "orig_nbformat": 2,
  "kernelspec": {
   "name": "python3",
   "display_name": "Python 3"
  }
 },
 "nbformat": 4,
 "nbformat_minor": 2
}